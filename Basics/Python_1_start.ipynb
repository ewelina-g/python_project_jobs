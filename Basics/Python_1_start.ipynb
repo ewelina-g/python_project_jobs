{
  "nbformat": 4,
  "nbformat_minor": 0,
  "metadata": {
    "colab": {
      "provenance": []
    },
    "kernelspec": {
      "name": "python3",
      "display_name": "Python 3"
    },
    "language_info": {
      "name": "python"
    }
  },
  "cells": [
    {
      "cell_type": "code",
      "source": [
        "# this is comment\n",
        "\n",
        "base_salary = 100000\n",
        "bonus_rate = .10\n"
      ],
      "metadata": {
        "id": "dnVvbzr8lLXC"
      },
      "execution_count": null,
      "outputs": []
    },
    {
      "cell_type": "code",
      "execution_count": null,
      "metadata": {
        "id": "v-e7ZlW9kaUw"
      },
      "outputs": [],
      "source": [
        "total_salary = (base_salary) * (1+ bonus_rate)"
      ]
    },
    {
      "cell_type": "code",
      "source": [
        "total_salary"
      ],
      "metadata": {
        "colab": {
          "base_uri": "https://localhost:8080/"
        },
        "id": "41BmsAplvW8n",
        "outputId": "45617422-d3fd-4a0e-c1f1-b044bb99fd9e"
      },
      "execution_count": null,
      "outputs": [
        {
          "output_type": "execute_result",
          "data": {
            "text/plain": [
              "110000.00000000001"
            ]
          },
          "metadata": {},
          "execution_count": 3
        }
      ]
    },
    {
      "cell_type": "code",
      "source": [
        "company_name = 'DataWiz Inc.'"
      ],
      "metadata": {
        "id": "u90yHhpPvcUT"
      },
      "execution_count": null,
      "outputs": []
    },
    {
      "cell_type": "code",
      "source": [
        "company_name"
      ],
      "metadata": {
        "colab": {
          "base_uri": "https://localhost:8080/",
          "height": 35
        },
        "id": "qz6aTelYvrGc",
        "outputId": "fc0c2868-a23c-4ea5-dc10-9ff7b8694f4d"
      },
      "execution_count": null,
      "outputs": [
        {
          "output_type": "execute_result",
          "data": {
            "text/plain": [
              "'DataWiz Inc.'"
            ],
            "application/vnd.google.colaboratory.intrinsic+json": {
              "type": "string"
            }
          },
          "metadata": {},
          "execution_count": 5
        }
      ]
    },
    {
      "cell_type": "code",
      "source": [
        "job_wfh = \"True\""
      ],
      "metadata": {
        "id": "kfcYUZfMvt3K"
      },
      "execution_count": null,
      "outputs": []
    },
    {
      "cell_type": "code",
      "source": [
        "job_id = 101\n",
        "job_title = \"Data Analyst\"\n",
        "job_salary = 125000"
      ],
      "metadata": {
        "id": "Q0iD712av0Ra"
      },
      "execution_count": null,
      "outputs": []
    },
    {
      "cell_type": "code",
      "source": [
        "\"Data \" + \"Analyst\" + \" super\""
      ],
      "metadata": {
        "id": "HKZKBLWQv8Vj",
        "colab": {
          "base_uri": "https://localhost:8080/",
          "height": 35
        },
        "outputId": "3dec3f6e-779f-485a-8192-045d3f8225b8"
      },
      "execution_count": null,
      "outputs": [
        {
          "output_type": "execute_result",
          "data": {
            "text/plain": [
              "'Data Analyst super'"
            ],
            "application/vnd.google.colaboratory.intrinsic+json": {
              "type": "string"
            }
          },
          "metadata": {},
          "execution_count": 8
        }
      ]
    },
    {
      "cell_type": "markdown",
      "source": [],
      "metadata": {
        "id": "ZDd2EBneAmSc"
      }
    },
    {
      "cell_type": "code",
      "source": [
        "2+2"
      ],
      "metadata": {
        "colab": {
          "base_uri": "https://localhost:8080/"
        },
        "id": "MXxdPlXoCevS",
        "outputId": "bd599bd6-8fb8-443d-e311-fbf14931b5c7"
      },
      "execution_count": null,
      "outputs": [
        {
          "output_type": "execute_result",
          "data": {
            "text/plain": [
              "4"
            ]
          },
          "metadata": {},
          "execution_count": 9
        }
      ]
    },
    {
      "cell_type": "code",
      "source": [
        "\"Data Analyst\" * 5"
      ],
      "metadata": {
        "colab": {
          "base_uri": "https://localhost:8080/",
          "height": 35
        },
        "id": "ywwQujjBCj7f",
        "outputId": "40935ecf-3513-4edf-b244-0b065457283b"
      },
      "execution_count": null,
      "outputs": [
        {
          "output_type": "execute_result",
          "data": {
            "text/plain": [
              "'Data AnalystData AnalystData AnalystData AnalystData Analyst'"
            ],
            "application/vnd.google.colaboratory.intrinsic+json": {
              "type": "string"
            }
          },
          "metadata": {},
          "execution_count": 10
        }
      ]
    },
    {
      "cell_type": "code",
      "source": [
        "3-2"
      ],
      "metadata": {
        "colab": {
          "base_uri": "https://localhost:8080/"
        },
        "id": "3JPiR4mpCojt",
        "outputId": "464a9736-5bc7-461c-bc54-a480a05905fa"
      },
      "execution_count": null,
      "outputs": [
        {
          "output_type": "execute_result",
          "data": {
            "text/plain": [
              "1"
            ]
          },
          "metadata": {},
          "execution_count": 11
        }
      ]
    },
    {
      "cell_type": "code",
      "source": [
        "5 / 2"
      ],
      "metadata": {
        "colab": {
          "base_uri": "https://localhost:8080/"
        },
        "id": "DDRDsCrlD-3t",
        "outputId": "e8d07c9a-5498-446f-dae3-79c711b50571"
      },
      "execution_count": null,
      "outputs": [
        {
          "output_type": "execute_result",
          "data": {
            "text/plain": [
              "2.5"
            ]
          },
          "metadata": {},
          "execution_count": 12
        }
      ]
    },
    {
      "cell_type": "code",
      "source": [
        "5 // 2"
      ],
      "metadata": {
        "colab": {
          "base_uri": "https://localhost:8080/"
        },
        "id": "ryQHPv6aEAjl",
        "outputId": "e3ed64d0-5d96-45d4-cf75-103e98899962"
      },
      "execution_count": null,
      "outputs": [
        {
          "output_type": "execute_result",
          "data": {
            "text/plain": [
              "2"
            ]
          },
          "metadata": {},
          "execution_count": 13
        }
      ]
    },
    {
      "cell_type": "markdown",
      "source": [
        "5 % 2"
      ],
      "metadata": {
        "id": "DIqFG6QWEFqM"
      }
    },
    {
      "cell_type": "code",
      "source": [
        "60_000 == 80_0000"
      ],
      "metadata": {
        "colab": {
          "base_uri": "https://localhost:8080/"
        },
        "id": "opBcETGQHc94",
        "outputId": "da3cef44-cdf9-4c29-df2b-9d8001f87e0b"
      },
      "execution_count": null,
      "outputs": [
        {
          "output_type": "execute_result",
          "data": {
            "text/plain": [
              "False"
            ]
          },
          "metadata": {},
          "execution_count": 14
        }
      ]
    },
    {
      "cell_type": "code",
      "source": [
        "if \"Match\" == \"Match\":\n",
        "  print (\"Go\")"
      ],
      "metadata": {
        "colab": {
          "base_uri": "https://localhost:8080/"
        },
        "id": "2w1Dz1hjLR7I",
        "outputId": "02b3d8ab-7e87-436f-df93-e9604b73a6f8"
      },
      "execution_count": null,
      "outputs": [
        {
          "output_type": "stream",
          "name": "stdout",
          "text": [
            "Go\n"
          ]
        }
      ]
    },
    {
      "cell_type": "code",
      "source": [
        "if \"Match\" == \"Metch\":\n",
        "  print (\"Go\")"
      ],
      "metadata": {
        "id": "PXX9sPrqLe1F"
      },
      "execution_count": null,
      "outputs": []
    },
    {
      "cell_type": "code",
      "source": [
        "skill = \"SQL\"\n",
        "applicant_skill = \"Python\"\n",
        "years_exp = 4\n",
        "\n",
        "\n",
        "if skill == applicant_skill:\n",
        "  print (\"Skill match\")\n",
        "elif years_exp >= 5:\n",
        "  print (\"goal\")\n",
        "else:\n",
        "  print (\"no match\")"
      ],
      "metadata": {
        "colab": {
          "base_uri": "https://localhost:8080/"
        },
        "id": "CkXWR-WjLifq",
        "outputId": "003990f1-0f6b-476a-bd6a-40f1ed656b7a"
      },
      "execution_count": null,
      "outputs": [
        {
          "output_type": "stream",
          "name": "stdout",
          "text": [
            "no match\n"
          ]
        }
      ]
    },
    {
      "cell_type": "code",
      "source": [
        "help(list)"
      ],
      "metadata": {
        "colab": {
          "base_uri": "https://localhost:8080/"
        },
        "id": "JWqIHNgeLuQC",
        "outputId": "481d89a3-4ce6-454e-b5b4-7b1c1d1f84bc"
      },
      "execution_count": null,
      "outputs": [
        {
          "output_type": "stream",
          "name": "stdout",
          "text": [
            "Help on class list in module builtins:\n",
            "\n",
            "class list(object)\n",
            " |  list(iterable=(), /)\n",
            " |  \n",
            " |  Built-in mutable sequence.\n",
            " |  \n",
            " |  If no argument is given, the constructor creates a new empty list.\n",
            " |  The argument must be an iterable if specified.\n",
            " |  \n",
            " |  Methods defined here:\n",
            " |  \n",
            " |  __add__(self, value, /)\n",
            " |      Return self+value.\n",
            " |  \n",
            " |  __contains__(self, key, /)\n",
            " |      Return key in self.\n",
            " |  \n",
            " |  __delitem__(self, key, /)\n",
            " |      Delete self[key].\n",
            " |  \n",
            " |  __eq__(self, value, /)\n",
            " |      Return self==value.\n",
            " |  \n",
            " |  __ge__(self, value, /)\n",
            " |      Return self>=value.\n",
            " |  \n",
            " |  __getattribute__(self, name, /)\n",
            " |      Return getattr(self, name).\n",
            " |  \n",
            " |  __getitem__(...)\n",
            " |      x.__getitem__(y) <==> x[y]\n",
            " |  \n",
            " |  __gt__(self, value, /)\n",
            " |      Return self>value.\n",
            " |  \n",
            " |  __iadd__(self, value, /)\n",
            " |      Implement self+=value.\n",
            " |  \n",
            " |  __imul__(self, value, /)\n",
            " |      Implement self*=value.\n",
            " |  \n",
            " |  __init__(self, /, *args, **kwargs)\n",
            " |      Initialize self.  See help(type(self)) for accurate signature.\n",
            " |  \n",
            " |  __iter__(self, /)\n",
            " |      Implement iter(self).\n",
            " |  \n",
            " |  __le__(self, value, /)\n",
            " |      Return self<=value.\n",
            " |  \n",
            " |  __len__(self, /)\n",
            " |      Return len(self).\n",
            " |  \n",
            " |  __lt__(self, value, /)\n",
            " |      Return self<value.\n",
            " |  \n",
            " |  __mul__(self, value, /)\n",
            " |      Return self*value.\n",
            " |  \n",
            " |  __ne__(self, value, /)\n",
            " |      Return self!=value.\n",
            " |  \n",
            " |  __repr__(self, /)\n",
            " |      Return repr(self).\n",
            " |  \n",
            " |  __reversed__(self, /)\n",
            " |      Return a reverse iterator over the list.\n",
            " |  \n",
            " |  __rmul__(self, value, /)\n",
            " |      Return value*self.\n",
            " |  \n",
            " |  __setitem__(self, key, value, /)\n",
            " |      Set self[key] to value.\n",
            " |  \n",
            " |  __sizeof__(self, /)\n",
            " |      Return the size of the list in memory, in bytes.\n",
            " |  \n",
            " |  append(self, object, /)\n",
            " |      Append object to the end of the list.\n",
            " |  \n",
            " |  clear(self, /)\n",
            " |      Remove all items from list.\n",
            " |  \n",
            " |  copy(self, /)\n",
            " |      Return a shallow copy of the list.\n",
            " |  \n",
            " |  count(self, value, /)\n",
            " |      Return number of occurrences of value.\n",
            " |  \n",
            " |  extend(self, iterable, /)\n",
            " |      Extend list by appending elements from the iterable.\n",
            " |  \n",
            " |  index(self, value, start=0, stop=9223372036854775807, /)\n",
            " |      Return first index of value.\n",
            " |      \n",
            " |      Raises ValueError if the value is not present.\n",
            " |  \n",
            " |  insert(self, index, object, /)\n",
            " |      Insert object before index.\n",
            " |  \n",
            " |  pop(self, index=-1, /)\n",
            " |      Remove and return item at index (default last).\n",
            " |      \n",
            " |      Raises IndexError if list is empty or index is out of range.\n",
            " |  \n",
            " |  remove(self, value, /)\n",
            " |      Remove first occurrence of value.\n",
            " |      \n",
            " |      Raises ValueError if the value is not present.\n",
            " |  \n",
            " |  reverse(self, /)\n",
            " |      Reverse *IN PLACE*.\n",
            " |  \n",
            " |  sort(self, /, *, key=None, reverse=False)\n",
            " |      Sort the list in ascending order and return None.\n",
            " |      \n",
            " |      The sort is in-place (i.e. the list itself is modified) and stable (i.e. the\n",
            " |      order of two equal elements is maintained).\n",
            " |      \n",
            " |      If a key function is given, apply it once to each list item and sort them,\n",
            " |      ascending or descending, according to their function values.\n",
            " |      \n",
            " |      The reverse flag can be set to sort in descending order.\n",
            " |  \n",
            " |  ----------------------------------------------------------------------\n",
            " |  Class methods defined here:\n",
            " |  \n",
            " |  __class_getitem__(...)\n",
            " |      See PEP 585\n",
            " |  \n",
            " |  ----------------------------------------------------------------------\n",
            " |  Static methods defined here:\n",
            " |  \n",
            " |  __new__(*args, **kwargs)\n",
            " |      Create and return a new object.  See help(type) for accurate signature.\n",
            " |  \n",
            " |  ----------------------------------------------------------------------\n",
            " |  Data and other attributes defined here:\n",
            " |  \n",
            " |  __hash__ = None\n",
            "\n"
          ]
        }
      ]
    },
    {
      "cell_type": "code",
      "source": [
        "#lista\n",
        "job_skills = ['sql', 'powerbi', 'excel']"
      ],
      "metadata": {
        "id": "22NpI7BzN0mT"
      },
      "execution_count": null,
      "outputs": []
    },
    {
      "cell_type": "code",
      "source": [
        "#dodawanie do listy\n",
        "job_skills.append('python')"
      ],
      "metadata": {
        "id": "3ym9cWEiN6VT"
      },
      "execution_count": null,
      "outputs": []
    },
    {
      "cell_type": "code",
      "source": [
        "job_skills"
      ],
      "metadata": {
        "colab": {
          "base_uri": "https://localhost:8080/"
        },
        "id": "RWqKv9MIN-Hr",
        "outputId": "e88789a1-9a18-4d7d-fff9-bbec6bf19627"
      },
      "execution_count": null,
      "outputs": [
        {
          "output_type": "execute_result",
          "data": {
            "text/plain": [
              "['sql', 'powerbi', 'excel', 'python']"
            ]
          },
          "metadata": {},
          "execution_count": 21
        }
      ]
    },
    {
      "cell_type": "code",
      "source": [
        "#usuwanie z listy\n",
        "job_skills.remove('powerbi')"
      ],
      "metadata": {
        "id": "EMgPkzCOODmG"
      },
      "execution_count": null,
      "outputs": []
    },
    {
      "cell_type": "code",
      "source": [
        "job_skills"
      ],
      "metadata": {
        "colab": {
          "base_uri": "https://localhost:8080/"
        },
        "id": "keVeZH-vOHm8",
        "outputId": "45949c2c-d29e-40f6-ec3f-7b236e864616"
      },
      "execution_count": null,
      "outputs": [
        {
          "output_type": "execute_result",
          "data": {
            "text/plain": [
              "['sql', 'excel', 'python']"
            ]
          },
          "metadata": {},
          "execution_count": 23
        }
      ]
    },
    {
      "cell_type": "code",
      "source": [
        "len('Python')"
      ],
      "metadata": {
        "colab": {
          "base_uri": "https://localhost:8080/"
        },
        "id": "NLqfPgE-OKlZ",
        "outputId": "e0a138f6-3b01-45ef-85ce-273cc23e7f13"
      },
      "execution_count": null,
      "outputs": [
        {
          "output_type": "execute_result",
          "data": {
            "text/plain": [
              "6"
            ]
          },
          "metadata": {},
          "execution_count": 24
        }
      ]
    },
    {
      "cell_type": "code",
      "source": [
        "len(job_skills)"
      ],
      "metadata": {
        "colab": {
          "base_uri": "https://localhost:8080/"
        },
        "id": "lO_XHvjHONZ2",
        "outputId": "82833255-dcaa-435b-b7dd-55ed9d1ce2e2"
      },
      "execution_count": null,
      "outputs": [
        {
          "output_type": "execute_result",
          "data": {
            "text/plain": [
              "3"
            ]
          },
          "metadata": {},
          "execution_count": 25
        }
      ]
    },
    {
      "cell_type": "code",
      "source": [
        "job_skills.insert(2, \"Powerbi\")"
      ],
      "metadata": {
        "id": "AQ1hXqCFOv9E"
      },
      "execution_count": null,
      "outputs": []
    },
    {
      "cell_type": "code",
      "source": [
        "job_skills"
      ],
      "metadata": {
        "colab": {
          "base_uri": "https://localhost:8080/"
        },
        "id": "7cZxerywO0Pw",
        "outputId": "548d7329-c7bb-44f3-c0fc-993f79cf7a03"
      },
      "execution_count": null,
      "outputs": [
        {
          "output_type": "execute_result",
          "data": {
            "text/plain": [
              "['sql', 'excel', 'Powerbi', 'python']"
            ]
          },
          "metadata": {},
          "execution_count": 27
        }
      ]
    },
    {
      "cell_type": "code",
      "source": [
        "#usuwanie z listy na podstawie miejsca - indexu\n",
        "job_skills.pop(3)"
      ],
      "metadata": {
        "colab": {
          "base_uri": "https://localhost:8080/",
          "height": 35
        },
        "id": "BX4DFpigO3jR",
        "outputId": "96c64699-9ad2-46a5-e204-3181c5a0a0bb"
      },
      "execution_count": null,
      "outputs": [
        {
          "output_type": "execute_result",
          "data": {
            "text/plain": [
              "'python'"
            ],
            "application/vnd.google.colaboratory.intrinsic+json": {
              "type": "string"
            }
          },
          "metadata": {},
          "execution_count": 28
        }
      ]
    },
    {
      "cell_type": "code",
      "source": [
        "job_skills"
      ],
      "metadata": {
        "colab": {
          "base_uri": "https://localhost:8080/"
        },
        "id": "g0Ati78hPXac",
        "outputId": "2042287a-7bcb-4ea9-b15a-21d09b49e41d"
      },
      "execution_count": null,
      "outputs": [
        {
          "output_type": "execute_result",
          "data": {
            "text/plain": [
              "['sql', 'excel', 'Powerbi']"
            ]
          },
          "metadata": {},
          "execution_count": 29
        }
      ]
    },
    {
      "cell_type": "code",
      "source": [
        "#tworzenie biblioteki\n",
        "job_type_skills = {\"database\": 'postgresql',\n",
        " 'language': 'python'}"
      ],
      "metadata": {
        "id": "JlziH_KNTt4t"
      },
      "execution_count": null,
      "outputs": []
    },
    {
      "cell_type": "code",
      "source": [
        "job_type_skills.keys()\n"
      ],
      "metadata": {
        "colab": {
          "base_uri": "https://localhost:8080/"
        },
        "id": "E5p3qdxbU2rt",
        "outputId": "871ab7b2-ad83-4c06-cc9a-36268213c53c"
      },
      "execution_count": null,
      "outputs": [
        {
          "output_type": "execute_result",
          "data": {
            "text/plain": [
              "dict_keys(['database', 'language'])"
            ]
          },
          "metadata": {},
          "execution_count": 31
        }
      ]
    },
    {
      "cell_type": "code",
      "source": [
        "job_type_skills.values()"
      ],
      "metadata": {
        "colab": {
          "base_uri": "https://localhost:8080/"
        },
        "id": "nMKaOPwmVByV",
        "outputId": "62e8c767-8e47-488a-d19e-7add05254351"
      },
      "execution_count": null,
      "outputs": [
        {
          "output_type": "execute_result",
          "data": {
            "text/plain": [
              "dict_values(['postgresql', 'python'])"
            ]
          },
          "metadata": {},
          "execution_count": 32
        }
      ]
    },
    {
      "cell_type": "code",
      "source": [
        "#tworzenie set - sety nie mają indexów\n",
        "job_skills = {'powerbi', 'sql', 'python', 'statistics'}"
      ],
      "metadata": {
        "id": "VbYL4mo_YMV3"
      },
      "execution_count": null,
      "outputs": []
    },
    {
      "cell_type": "code",
      "source": [
        "job_skills"
      ],
      "metadata": {
        "colab": {
          "base_uri": "https://localhost:8080/"
        },
        "id": "GuQSxT1pYbZ3",
        "outputId": "f6d26d82-a949-4f36-d341-60d05983d88b"
      },
      "execution_count": null,
      "outputs": [
        {
          "output_type": "execute_result",
          "data": {
            "text/plain": [
              "{'powerbi', 'python', 'sql', 'statistics'}"
            ]
          },
          "metadata": {},
          "execution_count": 34
        }
      ]
    },
    {
      "cell_type": "code",
      "source": [
        "tuple(range(2,5))"
      ],
      "metadata": {
        "colab": {
          "base_uri": "https://localhost:8080/"
        },
        "id": "zgWni1Y1a2VB",
        "outputId": "5deca110-cafe-4f7f-bf0d-8e005d50c082"
      },
      "execution_count": null,
      "outputs": [
        {
          "output_type": "execute_result",
          "data": {
            "text/plain": [
              "(2, 3, 4)"
            ]
          },
          "metadata": {},
          "execution_count": 35
        }
      ]
    },
    {
      "cell_type": "code",
      "source": [
        "job_titles = [\n",
        "    \"Data Scientist\", \"Data Analyst\", \"Machine Learning Engineer\", \"Data Engineer\",\n",
        "    \"Business Intelligence Analyst\", \"Quantitative Analyst\", \"Data Science Consultant\",\n",
        "    \"AI Research Scientist\", \"Data Architect\", \"Statistician\", \"Data Science Manager\",\n",
        "    \"Data Mining Engineer\", \"Big Data Engineer\", \"ML Scientist\", \"Data Science Lead\",\n",
        "    \"Data Scientist - NLP\", \"Data Science Researcher\", \"AI Engineer\", \"Data Engineer - Cloud\",\n",
        "    \"Operations Research Analyst\", \"Data Visualization Specialist\", \"Predictive Modeler\",\n",
        "    \"Data Strategist\", \"Data Science Intern\", \"Machine Learning Architect\", \"Big Data Analyst\",\n",
        "    \"Chief Data Officer\", \"Deep Learning Engineer\", \"Data Modeler\", \"Data Science Director\",\n",
        "    \"Data Science Consultant\", \"Business Intelligence Developer\", \"Data Science Analyst\",\n",
        "    \"Data Science Coordinator\", \"Machine Learning Specialist\", \"Research Data Scientist\",\n",
        "    \"Data Quality Analyst\", \"AI Product Manager\", \"Data Engineer - Big Data\", \"Database Administrator\",\n",
        "    \"Data Mining Analyst\", \"Data Insights Analyst\", \"Senior Data Scientist\", \"Junior Data Scientist\",\n",
        "    \"Lead Data Analyst\", \"Data Science Research Lead\", \"Data Product Manager\", \"Data Solutions Architect\",\n",
        "    \"Data Science Research Lead\", \"NLP Scientist\", \"Machine Learning Researcher\", \"Business Data Analyst\",\n",
        "    \"Quantitative Data Scientist\", \"Big Data Consultant\", \"Machine Learning Operations Engineer\",\n",
        "    \"Cloud Data Scientist\", \"Data Analysis Specialist\", \"Algorithm Engineer\", \"Computer Vision Engineer\",\n",
        "    \"Data Engineer - Machine Learning\", \"AI Data Scientist\", \"Cloud Data Engineer\", \"Data Analyst - Python\",\n",
        "    \"Machine Learning Research Engineer\", \"Data Science Operations Manager\", \"Business Intelligence Manager\",\n",
        "    \"Predictive Analytics Consultant\", \"Applied Data Scientist\", \"Data Analyst - SQL\", \"Data Architect - Cloud\",\n",
        "    \"Data Science Programmer\", \"AI Developer\", \"Machine Learning Developer\", \"Data Engineer - Python\",\n",
        "    \"Data Science Trainer\", \"Data Engineer - Hadoop\", \"Business Intelligence Architect\", \"Data Engineer - Spark\",\n",
        "    \"Data Scientist - Finance\", \"Data Science Specialist\", \"Data Science Evangelist\", \"Machine Learning Consultant\",\n",
        "    \"Data Operations Manager\", \"Data Scientist - Retail\", \"AI Solutions Architect\", \"Data Science Administrator\",\n",
        "    \"Data Scientist - Marketing\", \"Machine Learning Engineer - NLP\", \"Senior Data Analyst\", \"Data Science Developer\",\n",
        "    \"Data Engineering Manager\", \"Data Analyst - Machine Learning\", \"Chief Analytics Officer\", \"AI Solutions Engineer\",\n",
        "    \"Data Science Research Analyst\", \"Senior Data Engineer\", \"Data Insights Engineer\", \"Data Engineer - AI\",\n",
        "    \"Machine Learning Architect - AI\", \"Data Research Engineer\", \"Predictive Data Scientist\", \"Senior ML Engineer\",\n",
        "    \"Data Science Lead Analyst\", \"Big Data Scientist\", \"Data Scientist - Health Tech\", \"Data Analyst - Data Science\"\n",
        "]\n",
        "\n"
      ],
      "metadata": {
        "id": "ikNBrjG3RufE"
      },
      "execution_count": null,
      "outputs": []
    },
    {
      "cell_type": "code",
      "source": [
        "len (job_titles)\n"
      ],
      "metadata": {
        "colab": {
          "base_uri": "https://localhost:8080/"
        },
        "id": "0o-qz6LPRzUE",
        "outputId": "f1576046-e6d3-48d2-fd76-b859c4176288"
      },
      "execution_count": null,
      "outputs": [
        {
          "output_type": "execute_result",
          "data": {
            "text/plain": [
              "106"
            ]
          },
          "metadata": {},
          "execution_count": 37
        }
      ]
    },
    {
      "cell_type": "code",
      "source": [
        "namee= input ('whatsyourname?')"
      ],
      "metadata": {
        "colab": {
          "base_uri": "https://localhost:8080/"
        },
        "id": "zRrGm1x0Jxo3",
        "outputId": "a5b943a6-006f-4cf1-fa3c-0c3383a6e11d"
      },
      "execution_count": null,
      "outputs": [
        {
          "name": "stdout",
          "output_type": "stream",
          "text": [
            "whatsyourname?Ewelina\n"
          ]
        }
      ]
    },
    {
      "cell_type": "code",
      "source": [
        "print ('Hello '+namee)"
      ],
      "metadata": {
        "colab": {
          "base_uri": "https://localhost:8080/"
        },
        "id": "srjDE4tyJ_Jy",
        "outputId": "b397ff41-e268-46e7-de09-abe44d2edc1e"
      },
      "execution_count": null,
      "outputs": [
        {
          "output_type": "stream",
          "name": "stdout",
          "text": [
            "Hello Ewelina\n"
          ]
        }
      ]
    },
    {
      "cell_type": "code",
      "source": [
        "1+1\n"
      ],
      "metadata": {
        "colab": {
          "base_uri": "https://localhost:8080/"
        },
        "id": "aIjanTbQKqNz",
        "outputId": "8c0d0131-a37f-4a21-d7c5-a9e0e67504c5"
      },
      "execution_count": null,
      "outputs": [
        {
          "output_type": "execute_result",
          "data": {
            "text/plain": [
              "2"
            ]
          },
          "metadata": {},
          "execution_count": 41
        }
      ]
    },
    {
      "cell_type": "code",
      "source": [
        "3**2"
      ],
      "metadata": {
        "colab": {
          "base_uri": "https://localhost:8080/"
        },
        "id": "i55eQT_ZK2wK",
        "outputId": "3cd5c5f4-87b4-4377-cbbc-466e0b7fa3fb"
      },
      "execution_count": null,
      "outputs": [
        {
          "output_type": "execute_result",
          "data": {
            "text/plain": [
              "9"
            ]
          },
          "metadata": {},
          "execution_count": 42
        }
      ]
    },
    {
      "cell_type": "code",
      "source": [
        "temp = 5\n"
      ],
      "metadata": {
        "id": "_D90wYXT8R7-"
      },
      "execution_count": null,
      "outputs": []
    },
    {
      "cell_type": "code",
      "source": [
        "if temp >30:\n",
        "  print (\"it's hot day\")\n",
        "  print (\"Drink plenty of water\")\n",
        "elif temp <20:\n",
        "    print (\"it'scold\")\n",
        "else:\n",
        "      print (\"it'sok\")\n"
      ],
      "metadata": {
        "colab": {
          "base_uri": "https://localhost:8080/"
        },
        "id": "_PBZSgK98dYI",
        "outputId": "317b4cb7-50a2-4fb6-a412-29e04bf4d688"
      },
      "execution_count": null,
      "outputs": [
        {
          "output_type": "stream",
          "name": "stdout",
          "text": [
            "it'scold\n"
          ]
        }
      ]
    },
    {
      "cell_type": "code",
      "source": [
        "b = ['banana','apple','microsoft']"
      ],
      "metadata": {
        "id": "GJLl8neLyOBT"
      },
      "execution_count": null,
      "outputs": []
    },
    {
      "cell_type": "code",
      "source": [
        "print (b)"
      ],
      "metadata": {
        "colab": {
          "base_uri": "https://localhost:8080/"
        },
        "id": "BlQP4BqByVPE",
        "outputId": "e9edfc4e-a4c5-4c8b-a055-ddb0a99b167b"
      },
      "execution_count": null,
      "outputs": [
        {
          "output_type": "stream",
          "name": "stdout",
          "text": [
            "['banana', 'apple', 'microsoft']\n"
          ]
        }
      ]
    },
    {
      "cell_type": "code",
      "source": [
        "print(b)"
      ],
      "metadata": {
        "colab": {
          "base_uri": "https://localhost:8080/"
        },
        "id": "k5Qv1V-Jy-o3",
        "outputId": "552756d5-8988-46c7-a591-a2e627bc7877"
      },
      "execution_count": null,
      "outputs": [
        {
          "output_type": "stream",
          "name": "stdout",
          "text": [
            "['microsoft', 'apple', 'banana']\n"
          ]
        }
      ]
    },
    {
      "cell_type": "code",
      "source": [
        "b[slice(1,2)]\n"
      ],
      "metadata": {
        "colab": {
          "base_uri": "https://localhost:8080/"
        },
        "id": "g3Q61M1V0aaX",
        "outputId": "0f2ca967-07ee-456b-b614-f2f26c75982e"
      },
      "execution_count": null,
      "outputs": [
        {
          "output_type": "execute_result",
          "data": {
            "text/plain": [
              "['apple']"
            ]
          },
          "metadata": {},
          "execution_count": 51
        }
      ]
    },
    {
      "cell_type": "code",
      "source": [
        " c = [1,2,4,5]"
      ],
      "metadata": {
        "id": "8AsMIGG91UPh"
      },
      "execution_count": null,
      "outputs": []
    },
    {
      "cell_type": "code",
      "source": [
        "sum (c)"
      ],
      "metadata": {
        "colab": {
          "base_uri": "https://localhost:8080/"
        },
        "id": "ijEPlG8p5L9X",
        "outputId": "d0c17113-eafd-4ec7-8fd3-e603e303b9ac"
      },
      "execution_count": null,
      "outputs": [
        {
          "output_type": "execute_result",
          "data": {
            "text/plain": [
              "12"
            ]
          },
          "metadata": {},
          "execution_count": 53
        }
      ]
    },
    {
      "cell_type": "code",
      "source": [
        "a= list(range(1,100))"
      ],
      "metadata": {
        "id": "nYcqmr9n5vqi"
      },
      "execution_count": null,
      "outputs": []
    },
    {
      "cell_type": "code",
      "source": [
        "print (a)"
      ],
      "metadata": {
        "colab": {
          "base_uri": "https://localhost:8080/"
        },
        "id": "Sh1A-MzM50GQ",
        "outputId": "a886b444-a647-4aed-e631-ca8f6cfbf573"
      },
      "execution_count": null,
      "outputs": [
        {
          "output_type": "stream",
          "name": "stdout",
          "text": [
            "[1, 2, 3, 4, 5, 6, 7, 8, 9, 10, 11, 12, 13, 14, 15, 16, 17, 18, 19, 20, 21, 22, 23, 24, 25, 26, 27, 28, 29, 30, 31, 32, 33, 34, 35, 36, 37, 38, 39, 40, 41, 42, 43, 44, 45, 46, 47, 48, 49, 50, 51, 52, 53, 54, 55, 56, 57, 58, 59, 60, 61, 62, 63, 64, 65, 66, 67, 68, 69, 70, 71, 72, 73, 74, 75, 76, 77, 78, 79, 80, 81, 82, 83, 84, 85, 86, 87, 88, 89, 90, 91, 92, 93, 94, 95, 96, 97, 98, 99]\n"
          ]
        }
      ]
    },
    {
      "cell_type": "code",
      "source": [
        "range(1,100)"
      ],
      "metadata": {
        "colab": {
          "base_uri": "https://localhost:8080/"
        },
        "id": "9jACScI08KqO",
        "outputId": "edc60815-8339-479f-8476-0293d8955647"
      },
      "execution_count": null,
      "outputs": [
        {
          "output_type": "execute_result",
          "data": {
            "text/plain": [
              "range(1, 100)"
            ]
          },
          "metadata": {},
          "execution_count": 56
        }
      ]
    },
    {
      "cell_type": "code",
      "source": [
        "total2 = 0\n",
        "for e in range(1,100):\n",
        "  if e % 3 ==0 or e % 5 ==0:\n",
        "      total2 += e\n",
        "print (total2)"
      ],
      "metadata": {
        "colab": {
          "base_uri": "https://localhost:8080/"
        },
        "id": "Ew-r0H9Y8NwQ",
        "outputId": "86a2f81a-ceff-48e8-9405-ff3569536dd1"
      },
      "execution_count": null,
      "outputs": [
        {
          "output_type": "stream",
          "name": "stdout",
          "text": [
            "2318\n"
          ]
        }
      ]
    },
    {
      "cell_type": "code",
      "source": [
        "givenlist = [5,4,4,3,1,-2,-3,-5,8]\n",
        "total5=0\n",
        "i=0\n",
        "while givenlist[i]>0:\n",
        "  total5 += givenlist [i]\n",
        "  i +=1\n",
        "print(total5)"
      ],
      "metadata": {
        "colab": {
          "base_uri": "https://localhost:8080/"
        },
        "id": "giTHTwu48UGg",
        "outputId": "872eaa3c-b8e5-4df2-c6bd-e3cc5702fbd5"
      },
      "execution_count": null,
      "outputs": [
        {
          "output_type": "stream",
          "name": "stdout",
          "text": [
            "17\n"
          ]
        }
      ]
    },
    {
      "cell_type": "code",
      "source": [
        "givenlist = [5,4,4,3,1,-2,-3,-5,8]\n",
        "total6=0\n",
        "for e in givenlist:\n",
        "  if e <=0:\n",
        "    break\n",
        "  total6 += e\n",
        "print(total6)"
      ],
      "metadata": {
        "colab": {
          "base_uri": "https://localhost:8080/"
        },
        "id": "8NshVwt5Edbf",
        "outputId": "8cc7cab5-2827-4d18-e0f7-3efc963754cb"
      },
      "execution_count": null,
      "outputs": [
        {
          "output_type": "stream",
          "name": "stdout",
          "text": [
            "17\n"
          ]
        }
      ]
    },
    {
      "cell_type": "code",
      "source": [
        "givenlist = [5,4,4,3,1,-2,-3,-5,8]\n",
        "total6=0\n",
        "for e in givenlist:\n",
        "  if e >=0:\n",
        "    total6 += e\n",
        "print(total6)"
      ],
      "metadata": {
        "colab": {
          "base_uri": "https://localhost:8080/"
        },
        "id": "FwWEtfNOEvk7",
        "outputId": "7a49c502-08b8-43b8-b1a7-f618150591a1"
      },
      "execution_count": null,
      "outputs": [
        {
          "output_type": "stream",
          "name": "stdout",
          "text": [
            "25\n"
          ]
        }
      ]
    },
    {
      "cell_type": "code",
      "source": [
        "given2 = [7,5,4,4,3,1,-2,-3,-5,-7]\n"
      ],
      "metadata": {
        "id": "srWh3oZpGG8r"
      },
      "execution_count": null,
      "outputs": []
    },
    {
      "cell_type": "markdown",
      "source": [],
      "metadata": {
        "id": "CB3-sSlfGWTG"
      }
    },
    {
      "cell_type": "code",
      "source": [
        "#if we have datset sorted desceding and we dont know anything else about it\n",
        "#and we want to sum negative numbers\n",
        "#using in loop\n",
        "\n",
        "total7=0\n",
        "for e in given2:\n",
        "  if e<= 0:\n",
        "    total7 += e\n",
        "print (total7)"
      ],
      "metadata": {
        "colab": {
          "base_uri": "https://localhost:8080/"
        },
        "id": "BV0cWi5EGWyV",
        "outputId": "18e6f8ab-6804-4b86-ce25-6157d43e333b"
      },
      "execution_count": null,
      "outputs": [
        {
          "output_type": "stream",
          "name": "stdout",
          "text": [
            "-17\n"
          ]
        }
      ]
    },
    {
      "cell_type": "code",
      "source": [
        "#if we have datset sorted desceding and we dont know anything else about it\n",
        "#and we want to sum negative numbers\n",
        "#using while loop\n",
        "#from chat GPT\n",
        "\n",
        "sum_negatives = 0\n",
        "f = 0\n",
        "#this part of code skips until negative number is found\n",
        "while f < len(given2) and given2[f] >= 0:\n",
        "   f += 1\n",
        "\n",
        "# Sum only the negative numbers\n",
        "while f < len(given2) and given2[f] < 0:\n",
        "    sum_negatives += given2[f]\n",
        "    f += 1\n",
        "\n",
        "print(sum_negatives)"
      ],
      "metadata": {
        "colab": {
          "base_uri": "https://localhost:8080/"
        },
        "id": "GP9JW02CGunX",
        "outputId": "97ed869c-67f7-4c9c-cac0-18cb6405eb34"
      },
      "execution_count": null,
      "outputs": [
        {
          "output_type": "stream",
          "name": "stdout",
          "text": [
            "-17\n"
          ]
        }
      ]
    },
    {
      "cell_type": "code",
      "source": [
        " #if we have datset sorted desceding and we dont know anything else about it\n",
        "#and we want to sum negative numbers\n",
        "#using while loop\n",
        "#from CS dojo\n",
        "\n",
        "total8=0\n",
        "\n",
        "#zaczynamy od końca\n",
        "j = len(given2) -1\n",
        "while given2[j] <0:\n",
        "  total8 += given2[j]\n",
        "\n",
        "#cofa się bo liczy od końca\n",
        "  j-= 1\n",
        "print(total8)\n"
      ],
      "metadata": {
        "colab": {
          "base_uri": "https://localhost:8080/"
        },
        "id": "MgxqHNTMMnZv",
        "outputId": "4cd917d6-ba41-4af9-a791-e2c57527770f"
      },
      "execution_count": null,
      "outputs": [
        {
          "output_type": "stream",
          "name": "stdout",
          "text": [
            "-17\n"
          ]
        }
      ]
    },
    {
      "cell_type": "code",
      "source": [
        "a=list(range(100))\n",
        "print(a)"
      ],
      "metadata": {
        "colab": {
          "base_uri": "https://localhost:8080/"
        },
        "id": "f-2xZaWmK1D7",
        "outputId": "f549242f-45c5-4cdc-934c-df2164de325b"
      },
      "execution_count": null,
      "outputs": [
        {
          "output_type": "stream",
          "name": "stdout",
          "text": [
            "[0, 1, 2, 3, 4, 5, 6, 7, 8, 9, 10, 11, 12, 13, 14, 15, 16, 17, 18, 19, 20, 21, 22, 23, 24, 25, 26, 27, 28, 29, 30, 31, 32, 33, 34, 35, 36, 37, 38, 39, 40, 41, 42, 43, 44, 45, 46, 47, 48, 49, 50, 51, 52, 53, 54, 55, 56, 57, 58, 59, 60, 61, 62, 63, 64, 65, 66, 67, 68, 69, 70, 71, 72, 73, 74, 75, 76, 77, 78, 79, 80, 81, 82, 83, 84, 85, 86, 87, 88, 89, 90, 91, 92, 93, 94, 95, 96, 97, 98, 99]\n"
          ]
        }
      ]
    },
    {
      "cell_type": "code",
      "source": [
        "d = {\"ola\":24,\"Tom\":29}"
      ],
      "metadata": {
        "id": "LlAlVvasOatj"
      },
      "execution_count": null,
      "outputs": []
    },
    {
      "cell_type": "code",
      "source": [
        "d[\"Sam\"]=24"
      ],
      "metadata": {
        "id": "FUL8ERC0O3hr"
      },
      "execution_count": null,
      "outputs": []
    },
    {
      "cell_type": "code",
      "source": [
        "print(d[\"Sam\"])"
      ],
      "metadata": {
        "colab": {
          "base_uri": "https://localhost:8080/"
        },
        "id": "smx0SKqcO7uh",
        "outputId": "0e3e77e6-5616-451f-a9d2-210c61f68aa1"
      },
      "execution_count": null,
      "outputs": [
        {
          "output_type": "stream",
          "name": "stdout",
          "text": [
            "24\n"
          ]
        }
      ]
    },
    {
      "cell_type": "code",
      "source": [
        "d[\"ola\"] =19"
      ],
      "metadata": {
        "id": "6EhKZk2mPRH8"
      },
      "execution_count": null,
      "outputs": []
    },
    {
      "cell_type": "code",
      "source": [
        "print(d[\"ola\"])"
      ],
      "metadata": {
        "colab": {
          "base_uri": "https://localhost:8080/"
        },
        "id": "Y8SB7ckIPVe2",
        "outputId": "ecfa16d4-818b-4cd3-e094-87c7b626e066"
      },
      "execution_count": null,
      "outputs": [
        {
          "output_type": "stream",
          "name": "stdout",
          "text": [
            "19\n"
          ]
        }
      ]
    },
    {
      "cell_type": "code",
      "source": [
        "# how to itarate over key-value pairs?\n",
        "\n",
        "for key, value in d.items():\n",
        "  print(\"key:\")\n",
        "  print(key)\n",
        "  print(\"value:\")\n",
        "  print(value)\n",
        "  print(\"\")"
      ],
      "metadata": {
        "colab": {
          "base_uri": "https://localhost:8080/"
        },
        "id": "v76gfPf5QWzv",
        "outputId": "2b681c3c-c347-442a-a299-08b486b93548"
      },
      "execution_count": null,
      "outputs": [
        {
          "output_type": "stream",
          "name": "stdout",
          "text": [
            "key:\n",
            "ola\n",
            "value:\n",
            "19\n",
            "\n",
            "key:\n",
            "Tom\n",
            "value:\n",
            "29\n",
            "\n",
            "key:\n",
            "Sam\n",
            "value:\n",
            "24\n",
            "\n"
          ]
        }
      ]
    },
    {
      "cell_type": "code",
      "source": [
        " class Robot:\n",
        "  #self need to be added to every function we define in the class\n",
        "  def __init__(self, name, color, weight):\n",
        "      self.name= name\n",
        "      self.color = color\n",
        "      self.weight = weight\n",
        "\n",
        "  def introduce_self(self): #self refer to this object\n",
        "  #we need to add self to every method we want to add to the class\n",
        "    print(\"My name is \" + self.name)\n"
      ],
      "metadata": {
        "id": "EqPIJyowpu_t"
      },
      "execution_count": null,
      "outputs": []
    },
    {
      "cell_type": "code",
      "source": [
        "#this is how manualy we can create new objects\n",
        "\n",
        "#r1 = Robot()\n",
        "#r1.name=\"Tom\"\n",
        "#r1.color=\"red\"\n",
        "#r1.weight=30\n",
        "\n",
        "#r2 = Robot()\n",
        "#r2.name=\"Jerry\"\n",
        "#r2.color=\"blue\"\n",
        "#r2.weight=40\n",
        "\n",
        "\n",
        "r1 = Robot(\"Tom\", \"red\", 30)\n",
        "r2 = Robot(\"Jerry\", \"blue\", 40)"
      ],
      "metadata": {
        "id": "MuWkrjEerKen"
      },
      "execution_count": null,
      "outputs": []
    },
    {
      "cell_type": "code",
      "source": [
        "r1.introduce_self()"
      ],
      "metadata": {
        "colab": {
          "base_uri": "https://localhost:8080/"
        },
        "id": "TTjWGd4zrXgW",
        "outputId": "bc11c52b-70a6-4067-feca-147d3a9efc2e"
      },
      "execution_count": null,
      "outputs": [
        {
          "output_type": "stream",
          "name": "stdout",
          "text": [
            "My name is Tom\n"
          ]
        }
      ]
    },
    {
      "cell_type": "code",
      "source": [
        "r2.introduce_self()"
      ],
      "metadata": {
        "colab": {
          "base_uri": "https://localhost:8080/"
        },
        "id": "n0Sl323orxB7",
        "outputId": "89e75521-0d10-403f-a8c7-f15d7b4e61f7"
      },
      "execution_count": null,
      "outputs": [
        {
          "output_type": "stream",
          "name": "stdout",
          "text": [
            "My name is Jerry\n"
          ]
        }
      ]
    },
    {
      "cell_type": "code",
      "source": [
        "class Person:\n",
        "  def __init__(self, n, p, i):\n",
        "    self.name = n\n",
        "    self.personality = p\n",
        "    self.is_sitting = i\n",
        "\n",
        "  def sit_down(self):\n",
        "    self.is_sitting = True\n",
        "\n",
        "  def stand_up(self):\n",
        "    self.is_sitting = False"
      ],
      "metadata": {
        "id": "X5Qu0y-NvR2S"
      },
      "execution_count": null,
      "outputs": []
    },
    {
      "cell_type": "code",
      "source": [
        "p1 = Person(\"Alice\", \"aggressive\", False)\n",
        "p2 = Person(\"Becky\", \"talkative\", True)"
      ],
      "metadata": {
        "id": "hzRaj-ruvrLW"
      },
      "execution_count": null,
      "outputs": []
    },
    {
      "cell_type": "code",
      "source": [
        "# p1 owns r2\n",
        "# we can change constructor of robot\n",
        "#or we can add additional coude\n",
        "p1.robot_owned = r2\n",
        "p2.robot_owned = r1\n"
      ],
      "metadata": {
        "id": "YgmyPSrEv0kA"
      },
      "execution_count": null,
      "outputs": []
    },
    {
      "cell_type": "code",
      "source": [
        "p1.robot_owned.introduce_self()"
      ],
      "metadata": {
        "colab": {
          "base_uri": "https://localhost:8080/"
        },
        "id": "BuUTeQ5Kv5Lw",
        "outputId": "3bd2a644-9c6d-4891-9716-72f86839e92e"
      },
      "execution_count": null,
      "outputs": [
        {
          "output_type": "stream",
          "name": "stdout",
          "text": [
            "My name is Jerry\n"
          ]
        }
      ]
    },
    {
      "cell_type": "code",
      "source": [
        "def c_greater_than_d_plus_e(c,d,e):\n",
        "  if c> d+e:\n",
        "    return True\n",
        "  else:\n",
        "    return False"
      ],
      "metadata": {
        "id": "bM7Y33Tgr3NT"
      },
      "execution_count": null,
      "outputs": []
    },
    {
      "cell_type": "code",
      "source": [
        "c_greater_than_d_plus_e(10,9,3)"
      ],
      "metadata": {
        "colab": {
          "base_uri": "https://localhost:8080/"
        },
        "id": "Kyza_CmAsNtU",
        "outputId": "67221343-80a6-4fca-f273-02bf2b995659"
      },
      "execution_count": null,
      "outputs": [
        {
          "output_type": "execute_result",
          "data": {
            "text/plain": [
              "False"
            ]
          },
          "metadata": {},
          "execution_count": 81
        }
      ]
    },
    {
      "cell_type": "code",
      "source": [
        "def c_greater_than_d_plus_e2(c,d,e):\n",
        "  return c> d+e"
      ],
      "metadata": {
        "id": "9nxRoGPGseI5"
      },
      "execution_count": null,
      "outputs": []
    },
    {
      "cell_type": "code",
      "source": [
        "c_greater_than_d_plus_e2( 10,1,2)"
      ],
      "metadata": {
        "colab": {
          "base_uri": "https://localhost:8080/"
        },
        "id": "o_5JrY0tseBa",
        "outputId": "fa34c406-0e99-446e-bc5a-ad35058cabbe"
      },
      "execution_count": null,
      "outputs": [
        {
          "output_type": "execute_result",
          "data": {
            "text/plain": [
              "True"
            ]
          },
          "metadata": {},
          "execution_count": 83
        }
      ]
    },
    {
      "cell_type": "code",
      "source": [
        "a=[1,3,5,7,9,11]"
      ],
      "metadata": {
        "id": "2Q9ooATuuDz3"
      },
      "execution_count": null,
      "outputs": []
    },
    {
      "cell_type": "code",
      "source": [
        "d=[x*2 for x in a]\n",
        "print (d)"
      ],
      "metadata": {
        "colab": {
          "base_uri": "https://localhost:8080/"
        },
        "id": "nFUyed3auHYY",
        "outputId": "f5dee705-f33a-44a2-c04d-7386e1e621ef"
      },
      "execution_count": null,
      "outputs": [
        {
          "output_type": "stream",
          "name": "stdout",
          "text": [
            "[2, 6, 10, 14, 18, 22]\n"
          ]
        }
      ]
    },
    {
      "cell_type": "code",
      "source": [
        "e=[x**2 for x in range(1,7)]\n",
        "e.sort(reverse=True)\n",
        "print(e)"
      ],
      "metadata": {
        "colab": {
          "base_uri": "https://localhost:8080/"
        },
        "id": "kvr2uU2vui1L",
        "outputId": "f66b74bb-4a8d-40c5-e816-4aa51acf6b01"
      },
      "execution_count": null,
      "outputs": [
        {
          "output_type": "stream",
          "name": "stdout",
          "text": [
            "[36, 25, 16, 9, 4, 1]\n"
          ]
        }
      ]
    },
    {
      "cell_type": "code",
      "source": [
        "e1=[x**2 for x in range(6,0,-1)]\n",
        "print(e1)"
      ],
      "metadata": {
        "colab": {
          "base_uri": "https://localhost:8080/"
        },
        "id": "Bz0MvrXJvBCe",
        "outputId": "7295ba76-e8ea-44b7-ea0b-1dea3c779e16"
      },
      "execution_count": null,
      "outputs": [
        {
          "output_type": "stream",
          "name": "stdout",
          "text": [
            "[36, 25, 16, 9, 4, 1]\n"
          ]
        }
      ]
    },
    {
      "cell_type": "code",
      "source": [
        "for x in range(6,0,-1):\n",
        "    print(x)"
      ],
      "metadata": {
        "colab": {
          "base_uri": "https://localhost:8080/"
        },
        "id": "ru2tTvU8upYG",
        "outputId": "6922b5b5-4945-4948-bedb-89d07d37bfaa"
      },
      "execution_count": null,
      "outputs": [
        {
          "output_type": "stream",
          "name": "stdout",
          "text": [
            "6\n",
            "5\n",
            "4\n",
            "3\n",
            "2\n",
            "1\n"
          ]
        }
      ]
    },
    {
      "cell_type": "code",
      "source": [
        "given_list2=[1,3,4,1,3]"
      ],
      "metadata": {
        "id": "Q-3a6A0CZly3"
      },
      "execution_count": null,
      "outputs": []
    },
    {
      "cell_type": "code",
      "source": [
        "set1 = set(given_list2)"
      ],
      "metadata": {
        "id": "wUnrn-P8ZtpZ"
      },
      "execution_count": null,
      "outputs": []
    },
    {
      "cell_type": "code",
      "source": [
        "sum(set1)"
      ],
      "metadata": {
        "id": "iQpbGiXrZ0dZ",
        "outputId": "f2ef7559-e931-4dc7-913d-5a710116c573",
        "colab": {
          "base_uri": "https://localhost:8080/"
        }
      },
      "execution_count": null,
      "outputs": [
        {
          "output_type": "execute_result",
          "data": {
            "text/plain": [
              "8"
            ]
          },
          "metadata": {},
          "execution_count": 91
        }
      ]
    },
    {
      "cell_type": "code",
      "source": [
        "\"data\" in \"Data lab\""
      ],
      "metadata": {
        "colab": {
          "base_uri": "https://localhost:8080/"
        },
        "id": "IgtKtAp9HNi8",
        "outputId": "448b9623-3a4a-46e2-bd5e-71b699e3a840"
      },
      "execution_count": null,
      "outputs": [
        {
          "output_type": "execute_result",
          "data": {
            "text/plain": [
              "False"
            ]
          },
          "metadata": {},
          "execution_count": 92
        }
      ]
    },
    {
      "cell_type": "code",
      "source": [
        "\"data\" in \"data lab\""
      ],
      "metadata": {
        "colab": {
          "base_uri": "https://localhost:8080/"
        },
        "id": "hnjrAbUxHSQz",
        "outputId": "89b40253-e443-47c3-b950-8a15621e9407"
      },
      "execution_count": null,
      "outputs": [
        {
          "output_type": "execute_result",
          "data": {
            "text/plain": [
              "True"
            ]
          },
          "metadata": {},
          "execution_count": 93
        }
      ]
    },
    {
      "cell_type": "code",
      "source": [
        "a = 5  # 0101\n",
        "b = 1  # 0011\n",
        "print(a & b)"
      ],
      "metadata": {
        "colab": {
          "base_uri": "https://localhost:8080/"
        },
        "id": "0H1JjFd4JW_H",
        "outputId": "30efec80-f49b-4c49-c27e-0a4c7f4ef591"
      },
      "execution_count": null,
      "outputs": [
        {
          "output_type": "stream",
          "name": "stdout",
          "text": [
            "1\n"
          ]
        }
      ]
    },
    {
      "cell_type": "code",
      "source": [
        "~223"
      ],
      "metadata": {
        "colab": {
          "base_uri": "https://localhost:8080/"
        },
        "id": "K307ZoMBCr5A",
        "outputId": "0fb70414-e28c-40cc-8855-3844cf54e67f"
      },
      "execution_count": null,
      "outputs": [
        {
          "output_type": "execute_result",
          "data": {
            "text/plain": [
              "-224"
            ]
          },
          "metadata": {},
          "execution_count": 95
        }
      ]
    },
    {
      "cell_type": "code",
      "source": [
        "first_last6 = [6, 2, 7]"
      ],
      "metadata": {
        "id": "wl64rqFRB35m"
      },
      "execution_count": null,
      "outputs": []
    },
    {
      "cell_type": "code",
      "source": [
        "if first_last6[-1] == 6 or first_last6[0] == 6:\n",
        "  print (\"True\")\n",
        "else:\n",
        "  print (\"False\")"
      ],
      "metadata": {
        "colab": {
          "base_uri": "https://localhost:8080/"
        },
        "id": "bboau22CB9jf",
        "outputId": "bd7eb78e-a115-40b1-92fb-6fc4d3f31dc8"
      },
      "execution_count": null,
      "outputs": [
        {
          "output_type": "stream",
          "name": "stdout",
          "text": [
            "True\n"
          ]
        }
      ]
    },
    {
      "cell_type": "code",
      "source": [
        "9&1"
      ],
      "metadata": {
        "colab": {
          "base_uri": "https://localhost:8080/"
        },
        "id": "JZ_CR3_QGUqP",
        "outputId": "2fca3b95-7f2f-4096-83e0-f376948ab2c2"
      },
      "execution_count": null,
      "outputs": [
        {
          "output_type": "execute_result",
          "data": {
            "text/plain": [
              "1"
            ]
          },
          "metadata": {},
          "execution_count": 98
        }
      ]
    },
    {
      "cell_type": "code",
      "source": [
        "job_roles = [\n",
        "    {'role': 'Data Analyst', 'skills': ['Python', 'SQL', 'Excel']},\n",
        "    {'role': 'Data Scientist', 'skills': ['Python', 'R', 'Machine Learning', 'Deep Learning']},\n",
        "    {'role': 'Machine Learning Engineer', 'skills': ['Python', 'TensorFlow', 'PyTorch', 'Scikit-Learn']},\n",
        "    {'role': 'Data Engineer', 'skills': ['Python', 'Apache Spark', 'Hadoop', 'SQL']},\n",
        "    {'role': 'Business Intelligence Analyst', 'skills': ['Python', 'SQL', 'Tableau', 'Power BI', 'Excel']},\n",
        "    {'role': 'Quantitative Analyst', 'skills': ['R', 'Python', 'MATLAB', 'Statistics']},\n",
        "    {'role': 'Operations Analyst', 'skills': ['Python', 'SQL', 'Data Visualization', 'Process Improvement']},\n",
        "    {'role': 'Database Administrator', 'skills': ['SQL', 'Oracle', 'MySQL', 'Database Management']},\n",
        "    {'role': 'AI Engineer', 'skills': ['Python', 'TensorFlow', 'PyTorch', 'Computer Vision']},\n",
        "    {'role': 'Statistician', 'skills': ['R', 'SAS', 'Python', 'Statistical Modeling']}\n",
        "]"
      ],
      "metadata": {
        "id": "0Vkfd3D4Gb7h"
      },
      "execution_count": null,
      "outputs": []
    },
    {
      "cell_type": "code",
      "source": [
        "my_skills = ['Python', 'SQL', 'Excel']\n"
      ],
      "metadata": {
        "id": "pUi2Uz11Gbyl"
      },
      "execution_count": null,
      "outputs": []
    },
    {
      "cell_type": "code",
      "source": [
        "qulified_roles = []\n",
        "\n",
        "for job in job_roles:\n",
        "  qualified = True\n",
        "  for skill in my_skills:\n",
        "    if skill not in job['skills']:\n",
        "      qualified = False\n",
        "      break\n",
        "  if qualified:\n",
        "   qulified_roles.append(job['role'])\n",
        "qulified_roles"
      ],
      "metadata": {
        "colab": {
          "base_uri": "https://localhost:8080/"
        },
        "id": "ydldaw6aq593",
        "outputId": "aa5539ee-114f-4f22-b1a5-7134a44deed1"
      },
      "execution_count": null,
      "outputs": [
        {
          "output_type": "execute_result",
          "data": {
            "text/plain": [
              "['Data Analyst', 'Business Intelligence Analyst']"
            ]
          },
          "metadata": {},
          "execution_count": 101
        }
      ]
    },
    {
      "cell_type": "code",
      "source": [
        "qulified_roles2 = []\n",
        "\n",
        "for job in job_roles:\n",
        "  if all (skill in job['skills'] for skill in my_skills):\n",
        "    qulified_roles2.append(job['role'])\n",
        "qulified_roles2"
      ],
      "metadata": {
        "colab": {
          "base_uri": "https://localhost:8080/"
        },
        "id": "SM1oGaKYuT5d",
        "outputId": "33f88c97-4306-42f6-ed25-f787aed049aa"
      },
      "execution_count": null,
      "outputs": [
        {
          "output_type": "execute_result",
          "data": {
            "text/plain": [
              "['Data Analyst', 'Business Intelligence Analyst']"
            ]
          },
          "metadata": {},
          "execution_count": 102
        }
      ]
    },
    {
      "cell_type": "code",
      "source": [
        "def calculate_salary(base_salary,bonus_rate=0.1):\n",
        "\n",
        "  total_salary = base_salary * (1+bonus_rate)\n",
        "  return total_salary"
      ],
      "metadata": {
        "id": "xdrwZBh7wrg_"
      },
      "execution_count": null,
      "outputs": []
    },
    {
      "cell_type": "code",
      "source": [
        "calculate_salary(200,0.5)"
      ],
      "metadata": {
        "colab": {
          "base_uri": "https://localhost:8080/"
        },
        "id": "4P4yY0RexGjZ",
        "outputId": "ea533eee-2835-47bd-fe8b-3026a7d480cb"
      },
      "execution_count": null,
      "outputs": [
        {
          "output_type": "execute_result",
          "data": {
            "text/plain": [
              "300.0"
            ]
          },
          "metadata": {},
          "execution_count": 104
        }
      ]
    },
    {
      "cell_type": "code",
      "source": [
        "import my_module\n",
        "\n",
        "my_module.skill_list"
      ],
      "metadata": {
        "colab": {
          "base_uri": "https://localhost:8080/"
        },
        "id": "-Krp2B617tjV",
        "outputId": "63923d4d-4508-4015-fbc3-23fc35a66ae4"
      },
      "execution_count": null,
      "outputs": [
        {
          "output_type": "execute_result",
          "data": {
            "text/plain": [
              "['Pyhton', 'SQL', 'Excel']"
            ]
          },
          "metadata": {},
          "execution_count": 105
        }
      ]
    },
    {
      "cell_type": "code",
      "source": [
        "my_module.skill(\"Python\")"
      ],
      "metadata": {
        "colab": {
          "base_uri": "https://localhost:8080/",
          "height": 35
        },
        "id": "e8n0n21Q8Ns-",
        "outputId": "29ab2c3a-b913-4bca-fb9d-9f718a62865f"
      },
      "execution_count": null,
      "outputs": [
        {
          "output_type": "execute_result",
          "data": {
            "text/plain": [
              "'Python is my favorite skill'"
            ],
            "application/vnd.google.colaboratory.intrinsic+json": {
              "type": "string"
            }
          },
          "metadata": {},
          "execution_count": 106
        }
      ]
    },
    {
      "cell_type": "code",
      "source": [
        "str = \"abcd\""
      ],
      "metadata": {
        "id": "8t14GxEZYD9j"
      },
      "execution_count": null,
      "outputs": []
    },
    {
      "cell_type": "code",
      "source": [
        "print (str[0::2])\n",
        "\n"
      ],
      "metadata": {
        "id": "RgMLQ20pYWlM",
        "colab": {
          "base_uri": "https://localhost:8080/"
        },
        "outputId": "0e9a61a2-d6f7-4a15-d9c3-0f42b27ae3e7"
      },
      "execution_count": null,
      "outputs": [
        {
          "output_type": "stream",
          "name": "stdout",
          "text": [
            "ac\n"
          ]
        }
      ]
    },
    {
      "cell_type": "code",
      "source": [
        "print (str[1:-1])\n"
      ],
      "metadata": {
        "colab": {
          "base_uri": "https://localhost:8080/"
        },
        "id": "SrskjY5yzd2t",
        "outputId": "d19daa6e-9f12-4802-9da5-c16792afaa13"
      },
      "execution_count": null,
      "outputs": [
        {
          "output_type": "stream",
          "name": "stdout",
          "text": [
            "bc\n"
          ]
        }
      ]
    },
    {
      "cell_type": "code",
      "source": [
        "round (66,-2)"
      ],
      "metadata": {
        "colab": {
          "base_uri": "https://localhost:8080/"
        },
        "id": "Z8JA0ZA803_Y",
        "outputId": "42264e75-7ea5-41f8-b462-ef3696c5db6f"
      },
      "execution_count": null,
      "outputs": [
        {
          "output_type": "execute_result",
          "data": {
            "text/plain": [
              "100"
            ]
          },
          "metadata": {},
          "execution_count": 13
        }
      ]
    },
    {
      "cell_type": "code",
      "source": [
        "def round_sum(a, b, c):\n",
        "    a = round(a, -1)\n",
        "    b = round(b, -1)\n",
        "    c = round(c, -1)\n",
        "    return a, b, c  # Return the rounded values as a tuple\n",
        "\n",
        "def calculate_sum():\n",
        "    result = sum(round_sum(13, 24, 37))  # sum the rounded values\n",
        "    return result  # Return the sum\n",
        "\n",
        "# Call the function and print the result\n",
        "print(calculate_sum())  # This will print 70"
      ],
      "metadata": {
        "colab": {
          "base_uri": "https://localhost:8080/"
        },
        "id": "X1gHyoQM1bRM",
        "outputId": "aa54fc03-446b-441f-aef9-c11c917c8d35"
      },
      "execution_count": null,
      "outputs": [
        {
          "output_type": "stream",
          "name": "stdout",
          "text": [
            "70\n"
          ]
        }
      ]
    },
    {
      "cell_type": "code",
      "source": [
        "def rotate_left3(nums):\n",
        "  print (nums [1,2,0])\n",
        "  return rotate_left3(nums)\n"
      ],
      "metadata": {
        "id": "Tt-nDGBI1dP8"
      },
      "execution_count": null,
      "outputs": []
    },
    {
      "cell_type": "code",
      "source": [
        "str = \"abdc\""
      ],
      "metadata": {
        "id": "Cj7DE9XeBBqD"
      },
      "execution_count": null,
      "outputs": []
    },
    {
      "cell_type": "code",
      "source": [
        "if len(str) <=3:\n",
        "  print(str*3)\n",
        "else:\n",
        "  print (str[0:3]*3)"
      ],
      "metadata": {
        "colab": {
          "base_uri": "https://localhost:8080/"
        },
        "id": "9cucYvswBHhh",
        "outputId": "ac7fb1da-60fd-49f7-c440-7db1ebd60190"
      },
      "execution_count": null,
      "outputs": [
        {
          "output_type": "stream",
          "name": "stdout",
          "text": [
            "abdabdabd\n"
          ]
        }
      ]
    },
    {
      "cell_type": "code",
      "source": [
        "len(str)//2+1"
      ],
      "metadata": {
        "colab": {
          "base_uri": "https://localhost:8080/"
        },
        "id": "pfyVPi5qD5nf",
        "outputId": "55fd5e39-c426-451f-d691-6fd273fcf2f6"
      },
      "execution_count": null,
      "outputs": [
        {
          "output_type": "execute_result",
          "data": {
            "text/plain": [
              "3"
            ]
          },
          "metadata": {},
          "execution_count": 25
        }
      ]
    },
    {
      "cell_type": "code",
      "source": [
        "if len(str)%2 == 0:\n",
        "  print(str[0:(len(str)//2)])\n",
        "\n"
      ],
      "metadata": {
        "colab": {
          "base_uri": "https://localhost:8080/"
        },
        "id": "53zAohkjEK0b",
        "outputId": "8f094d40-f8ea-45e7-869d-e7a4dbd1ae4b"
      },
      "execution_count": null,
      "outputs": [
        {
          "output_type": "stream",
          "name": "stdout",
          "text": [
            "ab\n"
          ]
        }
      ]
    },
    {
      "cell_type": "code",
      "source": [
        "str[0:(len(str)//2)]"
      ],
      "metadata": {
        "colab": {
          "base_uri": "https://localhost:8080/",
          "height": 35
        },
        "id": "bPbN_0uMEqto",
        "outputId": "6f1bd1c5-d42b-44d9-f6ce-9ddbd2f3b600"
      },
      "execution_count": null,
      "outputs": [
        {
          "output_type": "execute_result",
          "data": {
            "text/plain": [
              "'ab'"
            ],
            "application/vnd.google.colaboratory.intrinsic+json": {
              "type": "string"
            }
          },
          "metadata": {},
          "execution_count": 35
        }
      ]
    },
    {
      "cell_type": "markdown",
      "source": [],
      "metadata": {
        "id": "DBe4sbPAEqoB"
      }
    },
    {
      "cell_type": "code",
      "source": [
        "9%5"
      ],
      "metadata": {
        "colab": {
          "base_uri": "https://localhost:8080/"
        },
        "id": "k_y1bM_RFffN",
        "outputId": "00d2dd08-7f36-4c05-8bde-52f04ec51b3c"
      },
      "execution_count": null,
      "outputs": [
        {
          "output_type": "execute_result",
          "data": {
            "text/plain": [
              "4"
            ]
          },
          "metadata": {},
          "execution_count": 43
        }
      ]
    },
    {
      "cell_type": "code",
      "source": [
        "sum67=[4,3,6,5,8,6]"
      ],
      "metadata": {
        "id": "Q8ADtiZ2alDT"
      },
      "execution_count": null,
      "outputs": []
    },
    {
      "cell_type": "code",
      "source": [
        "sum67.index(6)"
      ],
      "metadata": {
        "colab": {
          "base_uri": "https://localhost:8080/"
        },
        "id": "rEqwqeRgbO6o",
        "outputId": "ebac3ef4-154c-4677-95d3-6a618ccaa18c"
      },
      "execution_count": null,
      "outputs": [
        {
          "output_type": "execute_result",
          "data": {
            "text/plain": [
              "2"
            ]
          },
          "metadata": {},
          "execution_count": 50
        }
      ]
    }
  ]
}